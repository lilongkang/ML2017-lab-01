{
 "cells": [
  {
   "cell_type": "code",
   "execution_count": 65,
   "metadata": {
    "collapsed": true
   },
   "outputs": [],
   "source": [
    "import numpy as np\n",
    "import matplotlib.pyplot as plt\n",
    "from sklearn.externals.joblib import Memory\n",
    "from sklearn.datasets import load_svmlight_file\n",
    "from sklearn.model_selection import train_test_split"
   ]
  },
  {
   "cell_type": "code",
   "execution_count": 66,
   "metadata": {
    "collapsed": true
   },
   "outputs": [],
   "source": [
    "def get_data():\n",
    "    data=load_svmlight_file('housing_scale')\n",
    "    return data[0].todense(),data[1]\n",
    "X,y=get_data()\n",
    "y=np.reshape(y,(len(y),1))"
   ]
  },
  {
   "cell_type": "code",
   "execution_count": 67,
   "metadata": {
    "collapsed": true
   },
   "outputs": [],
   "source": [
    "X_train,X_test,y_train,y_test = train_test_split(X,y,test_size=0.3,random_state=42)\n",
    "(n,m)=np.shape(X_train)\n",
    "X_train=np.hstack((X_train,np.ones((n,1))))   \n",
    "(n,m)=np.shape(X_test)\n",
    "X_test=np.hstack((X_test,np.ones((n,1))))"
   ]
  },
  {
   "cell_type": "code",
   "execution_count": 105,
   "metadata": {
    "collapsed": true
   },
   "outputs": [],
   "source": [
    "(n,m)=np.shape(X_test)\n",
    "w=np.zeros((m,1))\n",
    "# 开始迭代\n",
    "epco=400          \n",
    "times=range(epco)\n",
    "loss_test=[]\n",
    "loss_train=[]             \n",
    "alpha=0.001                   \n",
    "def squareloss(X,w,y):    \n",
    "    y_predict=X*w         \n",
    "    s=0\n",
    "    for i in range(0,len(y)):        \n",
    "        s=s+(y_predict[i]-y[i])**2\n",
    "    return s/(len(y))"
   ]
  },
  {
   "cell_type": "code",
   "execution_count": 106,
   "metadata": {
    "collapsed": true
   },
   "outputs": [],
   "source": [
    "def gradient(X,w,y,lam=0):     \n",
    "    grad=lam*w+X.T*(X*w-y)\n",
    "    return grad"
   ]
  },
  {
   "cell_type": "code",
   "execution_count": 107,
   "metadata": {},
   "outputs": [
    {
     "name": "stdout",
     "output_type": "stream",
     "text": [
      "22.5492560446\n",
      "21.6252587159\n"
     ]
    }
   ],
   "source": [
    "def LinearRegression(X,y,w,lamda,epco,xa,ya,gradient=gradient,loss=squareloss):\n",
    "    grad=0\n",
    "    loss_train=[]\n",
    "    loss_test=[]\n",
    "    for i in range(epco):\n",
    "        grad=gradient(X,w,y,lamda)            \n",
    "        w=w-alpha*grad                            \n",
    "        loss_train.append(loss(X,w,y)[0,0])   \n",
    "        loss_test.append(loss(xa,w,ya)[0,0])      \n",
    "    return loss_train,loss_test\n",
    "\n",
    "loss_train,loss_test=LinearRegression(X=X_train,y=y_train,w=w,lamda=0,epco=epco,xa=X_test,ya=y_test)\n",
    "\n",
    "print(loss_train[-1])\n",
    "print(loss_test[-1])\n"
   ]
  },
  {
   "cell_type": "code",
   "execution_count": 108,
   "metadata": {},
   "outputs": [
    {
     "data": {
      "image/png": "[encoded data removed]",
      "text/plain": [
       "<matplotlib.figure.Figure at 0x23592225c88>"
      ]
     },
     "metadata": {},
     "output_type": "display_data"
    }
   ],
   "source": [
    "plt.xlabel('times')\n",
    "plt.ylabel('loss')\n",
    "plt.title(\"Linear Regression\")\n",
    "plt.plot(times,loss_train,label='training set')\n",
    "plt.plot(times,loss_test,label='test set')\n",
    "plt.legend()\n",
    "plt.show()"
   ]
  },
  {
   "cell_type": "code",
   "execution_count": null,
   "metadata": {
    "collapsed": true
   },
   "outputs": [],
   "source": []
  }
 ],
 "metadata": {
  "kernelspec": {
   "display_name": "Python 3",
   "language": "python",
   "name": "python3"
  },
  "language_info": {
   "codemirror_mode": {
    "name": "ipython",
    "version": 3
   },
   "file_extension": ".py",
   "mimetype": "text/x-python",
   "name": "python",
   "nbconvert_exporter": "python",
   "pygments_lexer": "ipython3",
   "version": "3.6.3"
  }
 },
 "nbformat": 4,
 "nbformat_minor": 2
}
